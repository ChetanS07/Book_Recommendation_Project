{
  "nbformat": 4,
  "nbformat_minor": 0,
  "metadata": {
    "colab": {
      "provenance": [],
      "gpuClass": "premium",
      "mount_file_id": "1LBrBhS3W5jMxymp0tXPPMB3pf5360Sk-",
      "authorship_tag": "ABX9TyMLntg/r3nW6Hj6dNj/r5Jk",
      "include_colab_link": true
    },
    "kernelspec": {
      "name": "python3",
      "display_name": "Python 3"
    },
    "language_info": {
      "name": "python"
    },
    "accelerator": "GPU",
    "gpuClass": "premium"
  },
  "cells": [
    {
      "cell_type": "markdown",
      "metadata": {
        "id": "view-in-github",
        "colab_type": "text"
      },
      "source": [
        "<a href=\"https://colab.research.google.com/github/ChetanS07/Book_Recommendation_Project/blob/main/CycleGANFinal.ipynb\" target=\"_parent\"><img src=\"https://colab.research.google.com/assets/colab-badge.svg\" alt=\"Open In Colab\"/></a>"
      ]
    },
    {
      "cell_type": "markdown",
      "source": [
        "\n",
        "\n",
        "**Pre requisites**\n",
        "\n",
        "    Download the git repo from this link \"https://github.com/junyanz/CycleGAN.git\"\n",
        "    Create a dataset as mentioned in the link (4 folders : testA,testB,trainA,trainB)\n",
        "\n"
      ],
      "metadata": {
        "id": "wQTlsAO3FCNP"
      }
    },
    {
      "cell_type": "code",
      "source": [
        "from google.colab import drive\n",
        "drive.mount('/content/drive')"
      ],
      "metadata": {
        "colab": {
          "base_uri": "https://localhost:8080/"
        },
        "id": "ulJ3Ui7INj7B",
        "outputId": "258c189d-f9c9-46c4-d470-243649d40ec3"
      },
      "execution_count": null,
      "outputs": [
        {
          "output_type": "stream",
          "name": "stdout",
          "text": [
            "Drive already mounted at /content/drive; to attempt to forcibly remount, call drive.mount(\"/content/drive\", force_remount=True).\n"
          ]
        }
      ]
    },
    {
      "cell_type": "code",
      "execution_count": null,
      "metadata": {
        "id": "qq_TeR3wNWr_"
      },
      "outputs": [],
      "source": [
        "import os\n",
        "os.chdir('drive/MyDrive/MiniProject/pytorch-CycleGAN-and-pix2pix-master/')"
      ]
    },
    {
      "cell_type": "code",
      "source": [
        "!pip install -r requirements.txt"
      ],
      "metadata": {
        "id": "4BPUo3rmNfLj"
      },
      "execution_count": null,
      "outputs": []
    },
    {
      "cell_type": "code",
      "source": [
        "!python train.py --dataroot ./datasets/plastic_surgery --name plasticSurgery1 --model cycle_gan --display_id -1"
      ],
      "metadata": {
        "id": "hmZscJJzNqzz"
      },
      "execution_count": null,
      "outputs": []
    },
    {
      "cell_type": "code",
      "source": [
        "!python test.py --dataroot datasets/plastic_surgery/testA --name plasticSurgery --model test --no_dropout"
      ],
      "metadata": {
        "id": "ID9_niPxNusH"
      },
      "execution_count": null,
      "outputs": []
    },
    {
      "cell_type": "code",
      "source": [
        "!python train.py --dataroot ./datasets/plastic_surgery --name plasticSurgery --model cycle_gan --continue_train --epoch_count 91 --display_id -1\n"
      ],
      "metadata": {
        "id": "eZgGLadT6AVu"
      },
      "execution_count": null,
      "outputs": []
    }
  ]
}